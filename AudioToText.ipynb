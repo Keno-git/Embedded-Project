{
 "cells": [
  {
   "cell_type": "code",
   "execution_count": 1,
   "metadata": {},
   "outputs": [
    {
     "name": "stdout",
     "output_type": "stream",
     "text": [
      "Requirement already satisfied: openai-whisper in e:\\conda\\envs\\audio\\lib\\site-packages (20231117)\n",
      "Requirement already satisfied: numba in e:\\conda\\envs\\audio\\lib\\site-packages (from openai-whisper) (0.58.1)\n",
      "Requirement already satisfied: numpy in e:\\conda\\envs\\audio\\lib\\site-packages (from openai-whisper) (1.26.2)\n",
      "Requirement already satisfied: torch in e:\\conda\\envs\\audio\\lib\\site-packages (from openai-whisper) (2.1.2)\n",
      "Requirement already satisfied: tqdm in e:\\conda\\envs\\audio\\lib\\site-packages (from openai-whisper) (4.66.1)\n",
      "Requirement already satisfied: more-itertools in e:\\conda\\envs\\audio\\lib\\site-packages (from openai-whisper) (10.1.0)\n",
      "Requirement already satisfied: tiktoken in e:\\conda\\envs\\audio\\lib\\site-packages (from openai-whisper) (0.5.2)\n",
      "Requirement already satisfied: llvmlite<0.42,>=0.41.0dev0 in e:\\conda\\envs\\audio\\lib\\site-packages (from numba->openai-whisper) (0.41.1)\n",
      "Requirement already satisfied: regex>=2022.1.18 in e:\\conda\\envs\\audio\\lib\\site-packages (from tiktoken->openai-whisper) (2023.10.3)\n",
      "Requirement already satisfied: requests>=2.26.0 in e:\\conda\\envs\\audio\\lib\\site-packages (from tiktoken->openai-whisper) (2.31.0)\n",
      "Requirement already satisfied: filelock in e:\\conda\\envs\\audio\\lib\\site-packages (from torch->openai-whisper) (3.13.1)\n",
      "Requirement already satisfied: typing-extensions in e:\\conda\\envs\\audio\\lib\\site-packages (from torch->openai-whisper) (4.9.0)\n",
      "Requirement already satisfied: sympy in e:\\conda\\envs\\audio\\lib\\site-packages (from torch->openai-whisper) (1.12)\n",
      "Requirement already satisfied: networkx in e:\\conda\\envs\\audio\\lib\\site-packages (from torch->openai-whisper) (3.2.1)\n",
      "Requirement already satisfied: jinja2 in e:\\conda\\envs\\audio\\lib\\site-packages (from torch->openai-whisper) (3.1.2)\n",
      "Requirement already satisfied: fsspec in e:\\conda\\envs\\audio\\lib\\site-packages (from torch->openai-whisper) (2023.12.2)\n",
      "Requirement already satisfied: colorama in e:\\conda\\envs\\audio\\lib\\site-packages (from tqdm->openai-whisper) (0.4.6)\n",
      "Requirement already satisfied: charset-normalizer<4,>=2 in e:\\conda\\envs\\audio\\lib\\site-packages (from requests>=2.26.0->tiktoken->openai-whisper) (3.3.2)\n",
      "Requirement already satisfied: idna<4,>=2.5 in c:\\users\\oskar\\appdata\\roaming\\python\\python310\\site-packages (from requests>=2.26.0->tiktoken->openai-whisper) (3.4)\n",
      "Requirement already satisfied: urllib3<3,>=1.21.1 in e:\\conda\\envs\\audio\\lib\\site-packages (from requests>=2.26.0->tiktoken->openai-whisper) (2.1.0)\n",
      "Requirement already satisfied: certifi>=2017.4.17 in e:\\conda\\envs\\audio\\lib\\site-packages (from requests>=2.26.0->tiktoken->openai-whisper) (2023.11.17)\n",
      "Requirement already satisfied: MarkupSafe>=2.0 in e:\\conda\\envs\\audio\\lib\\site-packages (from jinja2->torch->openai-whisper) (2.1.3)\n",
      "Requirement already satisfied: mpmath>=0.19 in e:\\conda\\envs\\audio\\lib\\site-packages (from sympy->torch->openai-whisper) (1.3.0)\n"
     ]
    },
    {
     "name": "stderr",
     "output_type": "stream",
     "text": [
      "WARNING: Ignoring invalid distribution -rotobuf (c:\\users\\oskar\\appdata\\roaming\\python\\python310\\site-packages)\n",
      "WARNING: Ignoring invalid distribution -rotobuf (c:\\users\\oskar\\appdata\\roaming\\python\\python310\\site-packages)\n",
      "WARNING: Ignoring invalid distribution -rotobuf (c:\\users\\oskar\\appdata\\roaming\\python\\python310\\site-packages)\n",
      "WARNING: Ignoring invalid distribution -rotobuf (c:\\users\\oskar\\appdata\\roaming\\python\\python310\\site-packages)\n"
     ]
    },
    {
     "name": "stdout",
     "output_type": "stream",
     "text": [
      "Requirement already satisfied: ffmpeg in e:\\conda\\envs\\audio\\lib\\site-packages (1.4)\n"
     ]
    },
    {
     "name": "stderr",
     "output_type": "stream",
     "text": [
      "WARNING: Ignoring invalid distribution -rotobuf (c:\\users\\oskar\\appdata\\roaming\\python\\python310\\site-packages)\n",
      "WARNING: Ignoring invalid distribution -rotobuf (c:\\users\\oskar\\appdata\\roaming\\python\\python310\\site-packages)\n",
      "WARNING: Ignoring invalid distribution -rotobuf (c:\\users\\oskar\\appdata\\roaming\\python\\python310\\site-packages)\n",
      "WARNING: Ignoring invalid distribution -rotobuf (c:\\users\\oskar\\appdata\\roaming\\python\\python310\\site-packages)\n"
     ]
    },
    {
     "name": "stdout",
     "output_type": "stream",
     "text": [
      "Requirement already satisfied: setuptools-rust in e:\\conda\\envs\\audio\\lib\\site-packages (1.8.1)\n",
      "Requirement already satisfied: setuptools>=62.4 in c:\\users\\oskar\\appdata\\roaming\\python\\python310\\site-packages (from setuptools-rust) (67.5.1)\n",
      "Requirement already satisfied: semantic-version<3,>=2.8.2 in e:\\conda\\envs\\audio\\lib\\site-packages (from setuptools-rust) (2.10.0)\n",
      "Requirement already satisfied: tomli>=1.2.1 in e:\\conda\\envs\\audio\\lib\\site-packages (from setuptools-rust) (2.0.1)\n"
     ]
    },
    {
     "name": "stderr",
     "output_type": "stream",
     "text": [
      "WARNING: Ignoring invalid distribution -rotobuf (c:\\users\\oskar\\appdata\\roaming\\python\\python310\\site-packages)\n",
      "WARNING: Ignoring invalid distribution -rotobuf (c:\\users\\oskar\\appdata\\roaming\\python\\python310\\site-packages)\n",
      "WARNING: Ignoring invalid distribution -rotobuf (c:\\users\\oskar\\appdata\\roaming\\python\\python310\\site-packages)\n",
      "WARNING: Ignoring invalid distribution -rotobuf (c:\\users\\oskar\\appdata\\roaming\\python\\python310\\site-packages)\n"
     ]
    }
   ],
   "source": [
    "#!pip install openai-whisper\n",
    "#!choco install ffmpeg\n",
    "#!pip install setuptools-rust (not sure if this is needed for non command line usage)"
   ]
  },
  {
   "cell_type": "markdown",
   "metadata": {},
   "source": [
    "https://github.com/openai/whisper follow this shit"
   ]
  },
  {
   "cell_type": "code",
   "execution_count": 1,
   "metadata": {},
   "outputs": [],
   "source": [
    "import whisper"
   ]
  },
  {
   "cell_type": "code",
   "execution_count": 2,
   "metadata": {},
   "outputs": [],
   "source": [
    "model = whisper.load_model(\"base\")"
   ]
  },
  {
   "cell_type": "code",
   "execution_count": 6,
   "metadata": {},
   "outputs": [
    {
     "name": "stdout",
     "output_type": "stream",
     "text": [
      " Y cayó tal vez esperando una disculpa mante, pero yo preferí guardar siténs.\n"
     ]
    }
   ],
   "source": [
    "result = model.transcribe(\"E:\\\\Vs Skola\\\\JU\\\\Embedded-Project\\\\src\\\\audio_dir\\\\common_voice_es_18307761.wav\")\n",
    "print(result[\"text\"])"
   ]
  }
 ],
 "metadata": {
  "kernelspec": {
   "display_name": "tf_gpu",
   "language": "python",
   "name": "python3"
  },
  "language_info": {
   "codemirror_mode": {
    "name": "ipython",
    "version": 3
   },
   "file_extension": ".py",
   "mimetype": "text/x-python",
   "name": "python",
   "nbconvert_exporter": "python",
   "pygments_lexer": "ipython3",
   "version": "3.10.13"
  }
 },
 "nbformat": 4,
 "nbformat_minor": 2
}
