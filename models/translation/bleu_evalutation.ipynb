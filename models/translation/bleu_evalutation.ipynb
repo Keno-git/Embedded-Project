{
 "cells": [
  {
   "cell_type": "code",
   "execution_count": null,
   "metadata": {},
   "outputs": [],
   "source": [
    "import pandas as pd\n",
    "import numpy as np\n",
    "\n",
    "import pyarrow.parquet as pa\n",
    "from nltk.translate.bleu_score import sentence_bleu\n",
    "import tensorflow as tf\n",
    "import tensorflow_text"
   ]
  },
  {
   "cell_type": "code",
   "execution_count": null,
   "metadata": {},
   "outputs": [],
   "source": [
    "table = pa.read_table('./data/to_spanish.parquet')\n",
    "df_spanish = table.to_pandas()\n",
    "df_spanish = df_spanish.iloc[350000:353000,:]\n",
    "len(df_spanish)"
   ]
  },
  {
   "cell_type": "code",
   "execution_count": null,
   "metadata": {},
   "outputs": [],
   "source": [
    "table = pa.read_table('./data/to_swedish.parquet')\n",
    "df_swedish = table.to_pandas()\n",
    "df_swedish = df_swedish.iloc[350000:353000,:]\n",
    "len(df_swedish)"
   ]
  },
  {
   "cell_type": "code",
   "execution_count": null,
   "metadata": {},
   "outputs": [],
   "source": [
    "en_es_ds = np.array([row['en'] for row in df_spanish['translation']])\n",
    "sp_en_ds = np.array([row['es'] for row in df_spanish['translation']])\n",
    "en_sv_ds = np.array([row['en'] for row in df_swedish['translation']])\n",
    "sv_en_ds = np.array([row['sv'] for row in df_swedish['translation']])"
   ]
  },
  {
   "cell_type": "code",
   "execution_count": null,
   "metadata": {},
   "outputs": [],
   "source": [
    "def bleu_score_base(source, target, model):\n",
    "  score = []\n",
    "  for src, label in zip(source, target):\n",
    "    output = model.translate([src])\n",
    "    sentence = output[0].numpy().decode()\n",
    "    sentence_list = sentence.split(\" \")\n",
    "    new = []\n",
    "    for word in sentence_list:\n",
    "      if word == \"\" or word == '[UNK]' or word == \"'\":\n",
    "        continue\n",
    "      new.append(word)\n",
    "    \n",
    "    score.append(sentence_bleu(references=label.split(\" \"), hypothesis=new, weights=[1,0,0,0]))\n",
    "    \n",
    "  average_accuracy = np.mean(score)\n",
    "  return average_accuracy "
   ]
  },
  {
   "cell_type": "code",
   "execution_count": null,
   "metadata": {},
   "outputs": [],
   "source": [
    "def bleu_score_tflite(source, target, interpreter):\n",
    "  interpreter.allocate_tensors()\n",
    "  input_details = interpreter.get_input_details()\n",
    "  output_details = interpreter.get_output_details()\n",
    "  input_shape = input_details[0]['shape']\n",
    "  score = []\n",
    "  for src, label in zip(source, target):\n",
    "    interpreter.set_tensor(input_details[0]['index'], np.array([src]))\n",
    "    interpreter.invoke()\n",
    "\n",
    "    output = interpreter.get_tensor(output_details[0]['index'])\n",
    "    sentence = output[0].decode('utf-8')\n",
    "    sentence_list = sentence.split(\" \")\n",
    "    new = []\n",
    "    for word in sentence_list:\n",
    "      if word == \"\" or word == '[UNK]' or word == \"'\":\n",
    "        continue\n",
    "      new.append(word)\n",
    "    \n",
    "    score.append(sentence_bleu(references=label.split(\" \"), hypothesis=new, weights=[1,0,0,0]))\n",
    "    \n",
    "  average_accuracy = np.mean(score)\n",
    "  return average_accuracy "
   ]
  },
  {
   "cell_type": "code",
   "execution_count": null,
   "metadata": {},
   "outputs": [],
   "source": [
    "en_es_model = tf.saved_model.load('./models/en_es_translation')\n",
    "bleu_score_base(en_es_ds, sp_en_ds, en_es_model)"
   ]
  },
  {
   "cell_type": "code",
   "execution_count": null,
   "metadata": {},
   "outputs": [],
   "source": [
    "es_en_model = tf.saved_model.load('./models/es_en_translation')\n",
    "bleu_score_base(sp_en_ds, en_es_ds, es_en_model)"
   ]
  },
  {
   "cell_type": "code",
   "execution_count": null,
   "metadata": {},
   "outputs": [],
   "source": [
    "en_es_tflite = tf.lite.Interpreter(model_path='tflite_models/en_es_translation.tflite')\n",
    "bleu_score_tflite(en_es_ds, sp_en_ds, en_es_tflite)"
   ]
  },
  {
   "cell_type": "code",
   "execution_count": null,
   "metadata": {},
   "outputs": [],
   "source": [
    "es_en_tflite = tf.lite.Interpreter(model_path='tflite_models/es_en_translation.tflite')\n",
    "bleu_score_tflite(sp_en_ds, en_es_ds, es_en_tflite)"
   ]
  },
  {
   "cell_type": "code",
   "execution_count": null,
   "metadata": {},
   "outputs": [],
   "source": [
    "en_sv_model = tf.saved_model.load('./models/en_sv_translation')\n",
    "bleu_score_base(en_sv_ds, sv_en_ds, en_sv_model)"
   ]
  },
  {
   "cell_type": "code",
   "execution_count": null,
   "metadata": {},
   "outputs": [],
   "source": [
    "sv_en_model = tf.saved_model.load('./models/sv_en_translation')\n",
    "bleu_score_base(sv_en_ds, en_sv_ds, sv_en_model)"
   ]
  },
  {
   "cell_type": "code",
   "execution_count": null,
   "metadata": {},
   "outputs": [],
   "source": [
    "en_sv_tflite = tf.lite.Interpreter(model_path='tflite_models/en_sv_translation.tflite')\n",
    "bleu_score_tflite(en_sv_ds, sv_en_ds, en_sv_tflite)"
   ]
  },
  {
   "cell_type": "code",
   "execution_count": null,
   "metadata": {},
   "outputs": [],
   "source": [
    "en_sv_tflite = tf.lite.Interpreter(model_path='tflite_models/sv_en_translation.tflite')\n",
    "bleu_score_tflite(sv_en_ds, en_sv_ds, sv_en_model)"
   ]
  }
 ],
 "metadata": {
  "kernelspec": {
   "display_name": "sota",
   "language": "python",
   "name": "python3"
  },
  "language_info": {
   "codemirror_mode": {
    "name": "ipython",
    "version": 3
   },
   "file_extension": ".py",
   "mimetype": "text/x-python",
   "name": "python",
   "nbconvert_exporter": "python",
   "pygments_lexer": "ipython3",
   "version": "3.10.13"
  }
 },
 "nbformat": 4,
 "nbformat_minor": 2
}
